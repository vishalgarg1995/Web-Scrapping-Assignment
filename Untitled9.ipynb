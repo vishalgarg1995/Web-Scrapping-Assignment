{
 "cells": [
  {
   "cell_type": "code",
   "execution_count": 197,
   "metadata": {},
   "outputs": [
    {
     "name": "stdout",
     "output_type": "stream",
     "text": [
      "Requirement already satisfied: bs4 in c:\\users\\sanj\\anaconda3\\lib\\site-packages (0.0.1)\n",
      "Requirement already satisfied: beautifulsoup4 in c:\\users\\sanj\\anaconda3\\lib\\site-packages (from bs4) (4.9.3)\n",
      "Requirement already satisfied: soupsieve>1.2; python_version >= \"3.0\" in c:\\users\\sanj\\anaconda3\\lib\\site-packages (from beautifulsoup4->bs4) (2.0.1)\n",
      "Requirement already satisfied: requests in c:\\users\\sanj\\anaconda3\\lib\\site-packages (2.24.0)\n",
      "Requirement already satisfied: chardet<4,>=3.0.2 in c:\\users\\sanj\\anaconda3\\lib\\site-packages (from requests) (3.0.4)\n",
      "Requirement already satisfied: urllib3!=1.25.0,!=1.25.1,<1.26,>=1.21.1 in c:\\users\\sanj\\anaconda3\\lib\\site-packages (from requests) (1.25.11)\n",
      "Requirement already satisfied: certifi>=2017.4.17 in c:\\users\\sanj\\anaconda3\\lib\\site-packages (from requests) (2020.6.20)\n",
      "Requirement already satisfied: idna<3,>=2.5 in c:\\users\\sanj\\anaconda3\\lib\\site-packages (from requests) (2.10)\n",
      "Requirement already satisfied: html5lib in c:\\users\\sanj\\anaconda3\\lib\\site-packages (1.1)\n",
      "Requirement already satisfied: webencodings in c:\\users\\sanj\\anaconda3\\lib\\site-packages (from html5lib) (0.5.1)\n",
      "Requirement already satisfied: six>=1.9 in c:\\users\\sanj\\anaconda3\\lib\\site-packages (from html5lib) (1.15.0)\n"
     ]
    }
   ],
   "source": [
    "!pip install bs4\n",
    "!pip install requests\n",
    "!pip install html5lib"
   ]
  },
  {
   "cell_type": "code",
   "execution_count": 198,
   "metadata": {},
   "outputs": [],
   "source": [
    "from bs4 import BeautifulSoup\n",
    "import requests\n",
    "import pandas as pd"
   ]
  },
  {
   "cell_type": "code",
   "execution_count": 199,
   "metadata": {},
   "outputs": [],
   "source": [
    "#Write a python program to scrap book name, author name, genre and book review of any 5 books from\n",
    "#www.bookpage.com’"
   ]
  },
  {
   "cell_type": "code",
   "execution_count": 221,
   "metadata": {},
   "outputs": [],
   "source": [
    "webpage=requests.get(\"https://www.bookpage.com\")"
   ]
  },
  {
   "cell_type": "code",
   "execution_count": 222,
   "metadata": {},
   "outputs": [
    {
     "data": {
      "text/plain": [
       "<Response [200]>"
      ]
     },
     "execution_count": 222,
     "metadata": {},
     "output_type": "execute_result"
    }
   ],
   "source": [
    "webpage"
   ]
  },
  {
   "cell_type": "code",
   "execution_count": null,
   "metadata": {},
   "outputs": [],
   "source": []
  },
  {
   "cell_type": "code",
   "execution_count": 223,
   "metadata": {},
   "outputs": [],
   "source": [
    "#webpage.content"
   ]
  },
  {
   "cell_type": "code",
   "execution_count": 224,
   "metadata": {},
   "outputs": [],
   "source": [
    "soup1=BeautifulSoup(webpage.content,'html.parser')\n",
    "#soup1"
   ]
  },
  {
   "cell_type": "code",
   "execution_count": 225,
   "metadata": {},
   "outputs": [],
   "source": [
    "#print(soup1.prettify())"
   ]
  },
  {
   "cell_type": "code",
   "execution_count": 229,
   "metadata": {},
   "outputs": [],
   "source": [
    "#Book_Name= soup.find('div',class_='row-fluid')"
   ]
  },
  {
   "cell_type": "code",
   "execution_count": 230,
   "metadata": {},
   "outputs": [
    {
     "name": "stdout",
     "output_type": "stream",
     "text": [
      "\n",
      "Of magic and mayhem\n",
      "\n",
      "\n",
      "Leah Johnson\n",
      "\n",
      "\n",
      " ★ Festival Days\n",
      "\n",
      "\n",
      "Listen\n",
      "\n",
      "\n",
      " ★ Rise to the Sun\n",
      "\n",
      "\n",
      "Filthy Animals\n",
      "\n"
     ]
    }
   ],
   "source": [
    "Book_Name=[]\n",
    "for j in soup1.find_all('h4',class_='italic'):\n",
    "    string1=j.text\n",
    "    Book_Name.append(string1)\n",
    "for each in Book_Name:\n",
    "    print(each)"
   ]
  },
  {
   "cell_type": "code",
   "execution_count": 231,
   "metadata": {},
   "outputs": [],
   "source": [
    "Author_Name=[]\n",
    "for j in soup1.find_all('h4',class_='sans'):\n",
    "    string1=j.text\n",
    "    Author_Name.append(string1)\n",
    "for each1 in Author_Name:\n",
    "    print(each1)"
   ]
  },
  {
   "cell_type": "code",
   "execution_count": 232,
   "metadata": {},
   "outputs": [],
   "source": [
    "Book_cover=[]\n",
    "for j in soup1.find_all('div',class_=\"article-body\"):\n",
    "    string1=j.text\n",
    "    Book_cover.append(string1)\n",
    "for each in Book_cover:\n",
    "    print(each)"
   ]
  },
  {
   "cell_type": "code",
   "execution_count": null,
   "metadata": {},
   "outputs": [],
   "source": []
  },
  {
   "cell_type": "code",
   "execution_count": 6,
   "metadata": {},
   "outputs": [],
   "source": [
    "##New Question\n",
    "##Write a python program to scrape details of all the mobile phones under Rs. 20,000 listed on Amazon.in. The scraped data should include Product Name, Price, Image URL and AverageRating"
   ]
  },
  {
   "cell_type": "code",
   "execution_count": 26,
   "metadata": {},
   "outputs": [],
   "source": [
    "page=requests.get('https://www.amazon.in/s?k=mobile+phones&rh=p_36%3A-2000000&qid=1624124505&rnid=1318502031&ref=sr_nr_p_36_5')"
   ]
  },
  {
   "cell_type": "code",
   "execution_count": 48,
   "metadata": {},
   "outputs": [],
   "source": [
    "#page"
   ]
  },
  {
   "cell_type": "code",
   "execution_count": 49,
   "metadata": {},
   "outputs": [],
   "source": [
    "#page.content"
   ]
  },
  {
   "cell_type": "code",
   "execution_count": 50,
   "metadata": {},
   "outputs": [],
   "source": [
    "soup=BeautifulSoup(page.content,'html.parser')\n",
    "#soup"
   ]
  },
  {
   "cell_type": "code",
   "execution_count": 51,
   "metadata": {},
   "outputs": [],
   "source": [
    "#print(soup.prettify())"
   ]
  },
  {
   "cell_type": "code",
   "execution_count": 233,
   "metadata": {},
   "outputs": [],
   "source": [
    "Name=[]\n",
    "prices=[]\n",
    "for i in soup.find_all('span',class_= \"a-size-medium a-color-base a-text-normal\"):\n",
    "    string=i.text\n",
    "    Name.append(string)\n",
    "for each in Name:\n",
    "    print(each)"
   ]
  },
  {
   "cell_type": "code",
   "execution_count": null,
   "metadata": {},
   "outputs": [],
   "source": [
    "#some problem in extracting data from Amazon"
   ]
  },
  {
   "cell_type": "code",
   "execution_count": null,
   "metadata": {},
   "outputs": [],
   "source": []
  },
  {
   "cell_type": "code",
   "execution_count": 93,
   "metadata": {},
   "outputs": [],
   "source": [
    "##Write a python program to display all the header tags from ‘en.wikipedia.org/wiki/Main_Page’."
   ]
  },
  {
   "cell_type": "code",
   "execution_count": 128,
   "metadata": {},
   "outputs": [],
   "source": [
    "url=requests.get('https://en.wikipedia.org/wiki/Main_Page')"
   ]
  },
  {
   "cell_type": "code",
   "execution_count": 129,
   "metadata": {},
   "outputs": [
    {
     "data": {
      "text/plain": [
       "<Response [200]>"
      ]
     },
     "execution_count": 129,
     "metadata": {},
     "output_type": "execute_result"
    }
   ],
   "source": [
    "url"
   ]
  },
  {
   "cell_type": "code",
   "execution_count": 137,
   "metadata": {},
   "outputs": [],
   "source": [
    "#url.content"
   ]
  },
  {
   "cell_type": "code",
   "execution_count": 136,
   "metadata": {},
   "outputs": [],
   "source": [
    "soup2=BeautifulSoup(url.content,'html.parser')\n",
    "#soup2"
   ]
  },
  {
   "cell_type": "code",
   "execution_count": 135,
   "metadata": {},
   "outputs": [],
   "source": [
    "#soup2.prettify"
   ]
  },
  {
   "cell_type": "code",
   "execution_count": 134,
   "metadata": {},
   "outputs": [
    {
     "name": "stdout",
     "output_type": "stream",
     "text": [
      "Main Page\n",
      "From today's featured article\n",
      "Did you know ...\n",
      "In the news\n",
      "On this day\n",
      "From today's featured list\n",
      "Today's featured picture\n",
      "Other areas of Wikipedia\n",
      "Wikipedia's sister projects\n",
      "Wikipedia languages\n",
      "Navigation menu\n",
      "\n",
      "Personal tools\n",
      "\n",
      "\n",
      "Namespaces\n",
      "\n",
      "\n",
      "Variants\n",
      "\n",
      "\n",
      "Views\n",
      "\n",
      "\n",
      "More\n",
      "\n",
      "\n",
      "Search\n",
      "\n",
      "\n",
      "Navigation\n",
      "\n",
      "\n",
      "Contribute\n",
      "\n",
      "\n",
      "Tools\n",
      "\n",
      "\n",
      "Print/export\n",
      "\n",
      "\n",
      "In other projects\n",
      "\n",
      "\n",
      "Languages\n",
      "\n"
     ]
    }
   ],
   "source": [
    "Header_Tags=[]\n",
    "for i in soup2.find_all([\"h1\",\"h2\",\"h3\",\"h4\",\"h5\",\"h6\"]):\n",
    "    string2=i.text\n",
    "    Header_Tags.append(string2)\n",
    "for each in Header_Tags:\n",
    "    print(each)"
   ]
  },
  {
   "cell_type": "code",
   "execution_count": 112,
   "metadata": {},
   "outputs": [],
   "source": [
    "##Write a python program to extract information about the local weather from the National Weather Service \n",
    "#website of USA, https://www.weather.gov/ for the city, San Francisco. You need to extract data about 7 day \n",
    "#extended forecast display for the city. The data should include period, short description, temperature and \n",
    "#description."
   ]
  },
  {
   "cell_type": "code",
   "execution_count": 138,
   "metadata": {},
   "outputs": [],
   "source": [
    "url_new=(\"https://forecast.weather.gov/MapClick.php?textField1=37.78&textField2=-122.42#.YM8mAEzhXIU\")"
   ]
  },
  {
   "cell_type": "code",
   "execution_count": 139,
   "metadata": {},
   "outputs": [
    {
     "data": {
      "text/plain": [
       "'https://forecast.weather.gov/MapClick.php?textField1=37.78&textField2=-122.42#.YM8mAEzhXIU'"
      ]
     },
     "execution_count": 139,
     "metadata": {},
     "output_type": "execute_result"
    }
   ],
   "source": [
    "url_new"
   ]
  },
  {
   "cell_type": "code",
   "execution_count": 140,
   "metadata": {},
   "outputs": [],
   "source": [
    "webpage1=requests.get(url_new)"
   ]
  },
  {
   "cell_type": "code",
   "execution_count": 141,
   "metadata": {},
   "outputs": [
    {
     "data": {
      "text/plain": [
       "<Response [200]>"
      ]
     },
     "execution_count": 141,
     "metadata": {},
     "output_type": "execute_result"
    }
   ],
   "source": [
    "webpage1"
   ]
  },
  {
   "cell_type": "code",
   "execution_count": 144,
   "metadata": {},
   "outputs": [],
   "source": [
    "#webpage1.content"
   ]
  },
  {
   "cell_type": "code",
   "execution_count": 146,
   "metadata": {},
   "outputs": [],
   "source": [
    "soup3=BeautifulSoup(webpage1.content,'html.parser')\n",
    "#soup3"
   ]
  },
  {
   "cell_type": "code",
   "execution_count": 128,
   "metadata": {},
   "outputs": [],
   "source": [
    "#soup3.prettify()"
   ]
  },
  {
   "cell_type": "code",
   "execution_count": 147,
   "metadata": {},
   "outputs": [
    {
     "name": "stdout",
     "output_type": "stream",
     "text": [
      "Today\n",
      "Tonight\n",
      "Saturday\n",
      "Saturday Night\n",
      "Sunday\n",
      "Sunday Night\n",
      "Monday\n",
      "Monday Night\n",
      "Tuesday\n",
      "Tuesday Night\n",
      "Wednesday\n",
      "Wednesday Night\n",
      "Thursday\n"
     ]
    }
   ],
   "source": [
    "seven_days=[]\n",
    "for i in soup3.find_all('div','col-sm-2 forecast-label'):\n",
    "    string3=i.text\n",
    "    seven_days.append(string3)\n",
    "for each in seven_days:\n",
    "    print(each)"
   ]
  },
  {
   "cell_type": "code",
   "execution_count": 149,
   "metadata": {},
   "outputs": [
    {
     "name": "stdout",
     "output_type": "stream",
     "text": [
      "Cloudy through mid morning, then gradual clearing, with a high near 68. Breezy, with a west wind 10 to 15 mph increasing to 19 to 24 mph in the afternoon. Winds could gust as high as 32 mph. \n",
      "Increasing clouds, with a low around 57. Breezy, with a west wind 21 to 26 mph decreasing to 11 to 16 mph after midnight. Winds could gust as high as 33 mph. \n",
      "Mostly cloudy through mid morning, then gradual clearing, with a high near 72. Breezy, with a west southwest wind 7 to 12 mph increasing to 20 to 25 mph in the afternoon. Winds could gust as high as 32 mph. \n",
      "Increasing clouds, with a low around 58. Breezy, with a west southwest wind 21 to 26 mph decreasing to 11 to 16 mph in the evening. Winds could gust as high as 34 mph. \n",
      "Mostly sunny, with a high near 70. Breezy, with a west southwest wind 11 to 16 mph increasing to 23 to 28 mph in the afternoon. Winds could gust as high as 36 mph. \n",
      "Mostly cloudy, with a low around 58. Breezy. \n",
      "Mostly sunny, with a high near 70.\n",
      "Partly cloudy, with a low around 58.\n",
      "Mostly sunny, with a high near 71.\n",
      "Partly cloudy, with a low around 58.\n",
      "Mostly sunny, with a high near 72.\n",
      "Mostly cloudy, with a low around 59.\n",
      "Mostly sunny, with a high near 71.\n"
     ]
    }
   ],
   "source": [
    "Weather_Forecast=[]\n",
    "for j in soup3.find_all('div',class_='col-sm-10 forecast-text'):\n",
    "    string3=j.text\n",
    "    Weather_Forecast.append(string3)\n",
    "for each in Weather_Forecast:\n",
    "    print(each)"
   ]
  },
  {
   "cell_type": "code",
   "execution_count": 151,
   "metadata": {},
   "outputs": [
    {
     "name": "stdout",
     "output_type": "stream",
     "text": [
      "High: 68 °F\n",
      "Low: 57 °F\n",
      "High: 72 °F\n",
      "Low: 58 °F\n",
      "High: 70 °F\n",
      "Low: 58 °F\n",
      "High: 70 °F\n",
      "Low: 58 °F\n",
      "High: 71 °F\n"
     ]
    }
   ],
   "source": [
    "Temperature=[]\n",
    "for k in soup3.find_all('p',class_='temp'):\n",
    "    string3=k.text\n",
    "    Temperature.append(string3)\n",
    "for each in Temperature:\n",
    "    print(each)"
   ]
  },
  {
   "cell_type": "code",
   "execution_count": 150,
   "metadata": {},
   "outputs": [],
   "source": [
    "df=pd.DataFrame({'Days':seven_days[0:9],'Weather':Weather_Forecast[0:9],'Temp':Temperature})"
   ]
  },
  {
   "cell_type": "code",
   "execution_count": 152,
   "metadata": {},
   "outputs": [
    {
     "data": {
      "text/html": [
       "<div>\n",
       "<style scoped>\n",
       "    .dataframe tbody tr th:only-of-type {\n",
       "        vertical-align: middle;\n",
       "    }\n",
       "\n",
       "    .dataframe tbody tr th {\n",
       "        vertical-align: top;\n",
       "    }\n",
       "\n",
       "    .dataframe thead th {\n",
       "        text-align: right;\n",
       "    }\n",
       "</style>\n",
       "<table border=\"1\" class=\"dataframe\">\n",
       "  <thead>\n",
       "    <tr style=\"text-align: right;\">\n",
       "      <th></th>\n",
       "      <th>Days</th>\n",
       "      <th>Weather</th>\n",
       "      <th>Temp</th>\n",
       "    </tr>\n",
       "  </thead>\n",
       "  <tbody>\n",
       "    <tr>\n",
       "      <th>0</th>\n",
       "      <td>Today</td>\n",
       "      <td>Cloudy through mid morning, then gradual clear...</td>\n",
       "      <td>High: 68 °F</td>\n",
       "    </tr>\n",
       "    <tr>\n",
       "      <th>1</th>\n",
       "      <td>Tonight</td>\n",
       "      <td>Increasing clouds, with a low around 57. Breez...</td>\n",
       "      <td>Low: 57 °F</td>\n",
       "    </tr>\n",
       "    <tr>\n",
       "      <th>2</th>\n",
       "      <td>Saturday</td>\n",
       "      <td>Mostly cloudy through mid morning, then gradua...</td>\n",
       "      <td>High: 72 °F</td>\n",
       "    </tr>\n",
       "    <tr>\n",
       "      <th>3</th>\n",
       "      <td>Saturday Night</td>\n",
       "      <td>Increasing clouds, with a low around 58. Breez...</td>\n",
       "      <td>Low: 58 °F</td>\n",
       "    </tr>\n",
       "    <tr>\n",
       "      <th>4</th>\n",
       "      <td>Sunday</td>\n",
       "      <td>Mostly sunny, with a high near 70. Breezy, wit...</td>\n",
       "      <td>High: 70 °F</td>\n",
       "    </tr>\n",
       "    <tr>\n",
       "      <th>5</th>\n",
       "      <td>Sunday Night</td>\n",
       "      <td>Mostly cloudy, with a low around 58. Breezy.</td>\n",
       "      <td>Low: 58 °F</td>\n",
       "    </tr>\n",
       "    <tr>\n",
       "      <th>6</th>\n",
       "      <td>Monday</td>\n",
       "      <td>Mostly sunny, with a high near 70.</td>\n",
       "      <td>High: 70 °F</td>\n",
       "    </tr>\n",
       "    <tr>\n",
       "      <th>7</th>\n",
       "      <td>Monday Night</td>\n",
       "      <td>Partly cloudy, with a low around 58.</td>\n",
       "      <td>Low: 58 °F</td>\n",
       "    </tr>\n",
       "    <tr>\n",
       "      <th>8</th>\n",
       "      <td>Tuesday</td>\n",
       "      <td>Mostly sunny, with a high near 71.</td>\n",
       "      <td>High: 71 °F</td>\n",
       "    </tr>\n",
       "  </tbody>\n",
       "</table>\n",
       "</div>"
      ],
      "text/plain": [
       "             Days                                            Weather  \\\n",
       "0           Today  Cloudy through mid morning, then gradual clear...   \n",
       "1         Tonight  Increasing clouds, with a low around 57. Breez...   \n",
       "2        Saturday  Mostly cloudy through mid morning, then gradua...   \n",
       "3  Saturday Night  Increasing clouds, with a low around 58. Breez...   \n",
       "4          Sunday  Mostly sunny, with a high near 70. Breezy, wit...   \n",
       "5    Sunday Night      Mostly cloudy, with a low around 58. Breezy.    \n",
       "6          Monday                 Mostly sunny, with a high near 70.   \n",
       "7    Monday Night               Partly cloudy, with a low around 58.   \n",
       "8         Tuesday                 Mostly sunny, with a high near 71.   \n",
       "\n",
       "          Temp  \n",
       "0  High: 68 °F  \n",
       "1   Low: 57 °F  \n",
       "2  High: 72 °F  \n",
       "3   Low: 58 °F  \n",
       "4  High: 70 °F  \n",
       "5   Low: 58 °F  \n",
       "6  High: 70 °F  \n",
       "7   Low: 58 °F  \n",
       "8  High: 71 °F  "
      ]
     },
     "execution_count": 152,
     "metadata": {},
     "output_type": "execute_result"
    }
   ],
   "source": [
    "df"
   ]
  },
  {
   "cell_type": "markdown",
   "metadata": {},
   "source": []
  },
  {
   "cell_type": "code",
   "execution_count": 160,
   "metadata": {},
   "outputs": [],
   "source": [
    "###Write a python program to display IMDB’s Top rated 100 movies’ data (i.e. Name, IMDB rating, Year of \n",
    "#release) and make data frame"
   ]
  },
  {
   "cell_type": "code",
   "execution_count": 35,
   "metadata": {},
   "outputs": [],
   "source": [
    "New_url=('https://www.imdb.com/search/title/?groups=top_100&sort=user_rating,desc')\n",
    "Npage=requests.get(New_url)"
   ]
  },
  {
   "cell_type": "code",
   "execution_count": 36,
   "metadata": {},
   "outputs": [
    {
     "data": {
      "text/plain": [
       "<Response [200]>"
      ]
     },
     "execution_count": 36,
     "metadata": {},
     "output_type": "execute_result"
    }
   ],
   "source": [
    "Npage"
   ]
  },
  {
   "cell_type": "code",
   "execution_count": 38,
   "metadata": {},
   "outputs": [],
   "source": [
    "#Npage.content"
   ]
  },
  {
   "cell_type": "code",
   "execution_count": 41,
   "metadata": {},
   "outputs": [],
   "source": [
    "soup4=BeautifulSoup(Npage.content,'html.parser')\n",
    "#soup4"
   ]
  },
  {
   "cell_type": "code",
   "execution_count": 43,
   "metadata": {},
   "outputs": [],
   "source": [
    "#soup4.prettify()"
   ]
  },
  {
   "cell_type": "code",
   "execution_count": 60,
   "metadata": {},
   "outputs": [
    {
     "data": {
      "text/plain": [
       "'IMDb \"Top 100\"\\n(Sorted by IMDb Rating Descending) - IMDb'"
      ]
     },
     "execution_count": 60,
     "metadata": {},
     "output_type": "execute_result"
    }
   ],
   "source": [
    "soup4.title.text"
   ]
  },
  {
   "cell_type": "code",
   "execution_count": 153,
   "metadata": {},
   "outputs": [],
   "source": [
    "movies=soup4.find_all('div',{'class':'lister-item mode-advanced'})\n",
    "#movies[1]"
   ]
  },
  {
   "cell_type": "code",
   "execution_count": 87,
   "metadata": {},
   "outputs": [
    {
     "name": "stdout",
     "output_type": "stream",
     "text": [
      "The Shawshank Redemption\n",
      "The Godfather\n",
      "The Dark Knight\n",
      "The Godfather: Part II\n",
      "12 Angry Men\n",
      "The Lord of the Rings: The Return of the King\n",
      "Pulp Fiction\n",
      "Schindler's List\n",
      "Inception\n",
      "Fight Club\n",
      "The Lord of the Rings: The Fellowship of the Ring\n",
      "Forrest Gump\n",
      "Il buono, il brutto, il cattivo\n",
      "The Lord of the Rings: The Two Towers\n",
      "The Matrix\n",
      "Goodfellas\n",
      "Star Wars: Episode V - The Empire Strikes Back\n",
      "One Flew Over the Cuckoo's Nest\n",
      "Gisaengchung\n",
      "Interstellar\n",
      "Cidade de Deus\n",
      "Sen to Chihiro no kamikakushi\n",
      "Saving Private Ryan\n",
      "The Green Mile\n",
      "La vita è bella\n",
      "Se7en\n",
      "The Silence of the Lambs\n",
      "Star Wars\n",
      "Seppuku\n",
      "Pather Panchali\n",
      "Shichinin no samurai\n",
      "It's a Wonderful Life\n",
      "Whiplash\n",
      "The Intouchables\n",
      "The Prestige\n",
      "The Departed\n",
      "The Pianist\n",
      "Gladiator\n",
      "American History X\n",
      "The Usual Suspects\n",
      "Léon\n",
      "The Lion King\n",
      "Terminator 2: Judgment Day\n",
      "Nuovo Cinema Paradiso\n",
      "Hotaru no haka\n",
      "Back to the Future\n",
      "Once Upon a Time in the West\n",
      "Psycho\n",
      "Rear Window\n",
      "Casablanca\n"
     ]
    }
   ],
   "source": [
    "movie_name=[]\n",
    "rating=[]\n",
    "\n",
    "for store in movies:\n",
    "    name=store.h3.a.text\n",
    "    movie_name.append(name) \n",
    "for each in movie_name:\n",
    "    print (each)"
   ]
  },
  {
   "cell_type": "code",
   "execution_count": 76,
   "metadata": {},
   "outputs": [
    {
     "data": {
      "text/plain": [
       "50"
      ]
     },
     "execution_count": 76,
     "metadata": {},
     "output_type": "execute_result"
    }
   ],
   "source": [
    "len(movie_name)"
   ]
  },
  {
   "cell_type": "code",
   "execution_count": 114,
   "metadata": {},
   "outputs": [
    {
     "name": "stdout",
     "output_type": "stream",
     "text": [
      "9.3\n",
      "9.2\n",
      "9\n",
      "9\n",
      "9\n",
      "8.9\n",
      "8.9\n",
      "8.9\n",
      "8.8\n",
      "8.8\n",
      "8.8\n",
      "8.8\n",
      "8.8\n",
      "8.7\n",
      "8.7\n",
      "8.7\n",
      "8.7\n",
      "8.7\n",
      "8.6\n",
      "8.6\n",
      "8.6\n",
      "8.6\n",
      "8.6\n",
      "8.6\n",
      "8.6\n",
      "8.6\n",
      "8.6\n",
      "8.6\n",
      "8.6\n",
      "8.6\n",
      "8.6\n",
      "8.6\n",
      "8.5\n",
      "8.5\n",
      "8.5\n",
      "8.5\n",
      "8.5\n",
      "8.5\n",
      "8.5\n",
      "8.5\n",
      "8.5\n",
      "8.5\n",
      "8.5\n",
      "8.5\n",
      "8.5\n",
      "8.5\n",
      "8.5\n",
      "8.5\n",
      "8.5\n",
      "8.5\n"
     ]
    }
   ],
   "source": [
    "rating=[]\n",
    "for store in movies:\n",
    "    rate=store.find('div',class_='inline-block ratings-imdb-rating')['data-value']\n",
    "    rating.append(rate)\n",
    "for each in rating:\n",
    "    print(each)"
   ]
  },
  {
   "cell_type": "code",
   "execution_count": 115,
   "metadata": {},
   "outputs": [
    {
     "data": {
      "text/plain": [
       "50"
      ]
     },
     "execution_count": 115,
     "metadata": {},
     "output_type": "execute_result"
    }
   ],
   "source": [
    "len(rating)"
   ]
  },
  {
   "cell_type": "code",
   "execution_count": 86,
   "metadata": {},
   "outputs": [
    {
     "name": "stdout",
     "output_type": "stream",
     "text": [
      "(1994)\n",
      "(1972)\n",
      "(2008)\n",
      "(1974)\n",
      "(1957)\n",
      "(2003)\n",
      "(1994)\n",
      "(1993)\n",
      "(2010)\n",
      "(1999)\n",
      "(2001)\n",
      "(1994)\n",
      "(1966)\n",
      "(2002)\n",
      "(1999)\n",
      "(1990)\n",
      "(1980)\n",
      "(1975)\n",
      "(2019)\n",
      "(2014)\n",
      "(2002)\n",
      "(2001)\n",
      "(1998)\n",
      "(1999)\n",
      "(1997)\n",
      "(1995)\n",
      "(1991)\n",
      "(1977)\n",
      "(1962)\n",
      "(1955)\n",
      "(1954)\n",
      "(1946)\n",
      "(2014)\n",
      "(2011)\n",
      "(2006)\n",
      "(2006)\n",
      "(2002)\n",
      "(2000)\n",
      "(1998)\n",
      "(1995)\n",
      "(1994)\n",
      "(1994)\n",
      "(1991)\n",
      "(1988)\n",
      "(1988)\n",
      "(1985)\n",
      "(1968)\n",
      "(1960)\n",
      "(1954)\n",
      "(1942)\n"
     ]
    }
   ],
   "source": [
    "Years_of_Release=[]\n",
    "for i in soup4.find_all('span',class_='lister-item-year text-muted unbold'):\n",
    "    string4=i.text\n",
    "    Years_of_Release.append(string4)\n",
    "for each in Years_of_Release:\n",
    "    print(each)"
   ]
  },
  {
   "cell_type": "code",
   "execution_count": 154,
   "metadata": {},
   "outputs": [],
   "source": [
    "df=pd.DataFrame({'Release Year': Years_of_Release,'Ratings_of_Movie':rating,'Name_of_Movie':movie_name})"
   ]
  },
  {
   "cell_type": "code",
   "execution_count": 155,
   "metadata": {},
   "outputs": [
    {
     "data": {
      "text/html": [
       "<div>\n",
       "<style scoped>\n",
       "    .dataframe tbody tr th:only-of-type {\n",
       "        vertical-align: middle;\n",
       "    }\n",
       "\n",
       "    .dataframe tbody tr th {\n",
       "        vertical-align: top;\n",
       "    }\n",
       "\n",
       "    .dataframe thead th {\n",
       "        text-align: right;\n",
       "    }\n",
       "</style>\n",
       "<table border=\"1\" class=\"dataframe\">\n",
       "  <thead>\n",
       "    <tr style=\"text-align: right;\">\n",
       "      <th></th>\n",
       "      <th>Release Year</th>\n",
       "      <th>Ratings_of_Movie</th>\n",
       "      <th>Name_of_Movie</th>\n",
       "    </tr>\n",
       "  </thead>\n",
       "  <tbody>\n",
       "    <tr>\n",
       "      <th>0</th>\n",
       "      <td>(1994)</td>\n",
       "      <td>9.3</td>\n",
       "      <td>The Shawshank Redemption</td>\n",
       "    </tr>\n",
       "    <tr>\n",
       "      <th>1</th>\n",
       "      <td>(1972)</td>\n",
       "      <td>9.2</td>\n",
       "      <td>The Godfather</td>\n",
       "    </tr>\n",
       "    <tr>\n",
       "      <th>2</th>\n",
       "      <td>(2008)</td>\n",
       "      <td>9</td>\n",
       "      <td>The Dark Knight</td>\n",
       "    </tr>\n",
       "    <tr>\n",
       "      <th>3</th>\n",
       "      <td>(1974)</td>\n",
       "      <td>9</td>\n",
       "      <td>The Godfather: Part II</td>\n",
       "    </tr>\n",
       "    <tr>\n",
       "      <th>4</th>\n",
       "      <td>(1957)</td>\n",
       "      <td>9</td>\n",
       "      <td>12 Angry Men</td>\n",
       "    </tr>\n",
       "    <tr>\n",
       "      <th>5</th>\n",
       "      <td>(2003)</td>\n",
       "      <td>8.9</td>\n",
       "      <td>The Lord of the Rings: The Return of the King</td>\n",
       "    </tr>\n",
       "    <tr>\n",
       "      <th>6</th>\n",
       "      <td>(1994)</td>\n",
       "      <td>8.9</td>\n",
       "      <td>Pulp Fiction</td>\n",
       "    </tr>\n",
       "    <tr>\n",
       "      <th>7</th>\n",
       "      <td>(1993)</td>\n",
       "      <td>8.9</td>\n",
       "      <td>Schindler's List</td>\n",
       "    </tr>\n",
       "    <tr>\n",
       "      <th>8</th>\n",
       "      <td>(2010)</td>\n",
       "      <td>8.8</td>\n",
       "      <td>Inception</td>\n",
       "    </tr>\n",
       "    <tr>\n",
       "      <th>9</th>\n",
       "      <td>(1999)</td>\n",
       "      <td>8.8</td>\n",
       "      <td>Fight Club</td>\n",
       "    </tr>\n",
       "    <tr>\n",
       "      <th>10</th>\n",
       "      <td>(2001)</td>\n",
       "      <td>8.8</td>\n",
       "      <td>The Lord of the Rings: The Fellowship of the Ring</td>\n",
       "    </tr>\n",
       "    <tr>\n",
       "      <th>11</th>\n",
       "      <td>(1994)</td>\n",
       "      <td>8.8</td>\n",
       "      <td>Forrest Gump</td>\n",
       "    </tr>\n",
       "    <tr>\n",
       "      <th>12</th>\n",
       "      <td>(1966)</td>\n",
       "      <td>8.8</td>\n",
       "      <td>Il buono, il brutto, il cattivo</td>\n",
       "    </tr>\n",
       "    <tr>\n",
       "      <th>13</th>\n",
       "      <td>(2002)</td>\n",
       "      <td>8.7</td>\n",
       "      <td>The Lord of the Rings: The Two Towers</td>\n",
       "    </tr>\n",
       "    <tr>\n",
       "      <th>14</th>\n",
       "      <td>(1999)</td>\n",
       "      <td>8.7</td>\n",
       "      <td>The Matrix</td>\n",
       "    </tr>\n",
       "    <tr>\n",
       "      <th>15</th>\n",
       "      <td>(1990)</td>\n",
       "      <td>8.7</td>\n",
       "      <td>Goodfellas</td>\n",
       "    </tr>\n",
       "    <tr>\n",
       "      <th>16</th>\n",
       "      <td>(1980)</td>\n",
       "      <td>8.7</td>\n",
       "      <td>Star Wars: Episode V - The Empire Strikes Back</td>\n",
       "    </tr>\n",
       "    <tr>\n",
       "      <th>17</th>\n",
       "      <td>(1975)</td>\n",
       "      <td>8.7</td>\n",
       "      <td>One Flew Over the Cuckoo's Nest</td>\n",
       "    </tr>\n",
       "    <tr>\n",
       "      <th>18</th>\n",
       "      <td>(2019)</td>\n",
       "      <td>8.6</td>\n",
       "      <td>Gisaengchung</td>\n",
       "    </tr>\n",
       "    <tr>\n",
       "      <th>19</th>\n",
       "      <td>(2014)</td>\n",
       "      <td>8.6</td>\n",
       "      <td>Interstellar</td>\n",
       "    </tr>\n",
       "    <tr>\n",
       "      <th>20</th>\n",
       "      <td>(2002)</td>\n",
       "      <td>8.6</td>\n",
       "      <td>Cidade de Deus</td>\n",
       "    </tr>\n",
       "    <tr>\n",
       "      <th>21</th>\n",
       "      <td>(2001)</td>\n",
       "      <td>8.6</td>\n",
       "      <td>Sen to Chihiro no kamikakushi</td>\n",
       "    </tr>\n",
       "    <tr>\n",
       "      <th>22</th>\n",
       "      <td>(1998)</td>\n",
       "      <td>8.6</td>\n",
       "      <td>Saving Private Ryan</td>\n",
       "    </tr>\n",
       "    <tr>\n",
       "      <th>23</th>\n",
       "      <td>(1999)</td>\n",
       "      <td>8.6</td>\n",
       "      <td>The Green Mile</td>\n",
       "    </tr>\n",
       "    <tr>\n",
       "      <th>24</th>\n",
       "      <td>(1997)</td>\n",
       "      <td>8.6</td>\n",
       "      <td>La vita è bella</td>\n",
       "    </tr>\n",
       "    <tr>\n",
       "      <th>25</th>\n",
       "      <td>(1995)</td>\n",
       "      <td>8.6</td>\n",
       "      <td>Se7en</td>\n",
       "    </tr>\n",
       "    <tr>\n",
       "      <th>26</th>\n",
       "      <td>(1991)</td>\n",
       "      <td>8.6</td>\n",
       "      <td>The Silence of the Lambs</td>\n",
       "    </tr>\n",
       "    <tr>\n",
       "      <th>27</th>\n",
       "      <td>(1977)</td>\n",
       "      <td>8.6</td>\n",
       "      <td>Star Wars</td>\n",
       "    </tr>\n",
       "    <tr>\n",
       "      <th>28</th>\n",
       "      <td>(1962)</td>\n",
       "      <td>8.6</td>\n",
       "      <td>Seppuku</td>\n",
       "    </tr>\n",
       "    <tr>\n",
       "      <th>29</th>\n",
       "      <td>(1955)</td>\n",
       "      <td>8.6</td>\n",
       "      <td>Pather Panchali</td>\n",
       "    </tr>\n",
       "    <tr>\n",
       "      <th>30</th>\n",
       "      <td>(1954)</td>\n",
       "      <td>8.6</td>\n",
       "      <td>Shichinin no samurai</td>\n",
       "    </tr>\n",
       "    <tr>\n",
       "      <th>31</th>\n",
       "      <td>(1946)</td>\n",
       "      <td>8.6</td>\n",
       "      <td>It's a Wonderful Life</td>\n",
       "    </tr>\n",
       "    <tr>\n",
       "      <th>32</th>\n",
       "      <td>(2014)</td>\n",
       "      <td>8.5</td>\n",
       "      <td>Whiplash</td>\n",
       "    </tr>\n",
       "    <tr>\n",
       "      <th>33</th>\n",
       "      <td>(2011)</td>\n",
       "      <td>8.5</td>\n",
       "      <td>The Intouchables</td>\n",
       "    </tr>\n",
       "    <tr>\n",
       "      <th>34</th>\n",
       "      <td>(2006)</td>\n",
       "      <td>8.5</td>\n",
       "      <td>The Prestige</td>\n",
       "    </tr>\n",
       "    <tr>\n",
       "      <th>35</th>\n",
       "      <td>(2006)</td>\n",
       "      <td>8.5</td>\n",
       "      <td>The Departed</td>\n",
       "    </tr>\n",
       "    <tr>\n",
       "      <th>36</th>\n",
       "      <td>(2002)</td>\n",
       "      <td>8.5</td>\n",
       "      <td>The Pianist</td>\n",
       "    </tr>\n",
       "    <tr>\n",
       "      <th>37</th>\n",
       "      <td>(2000)</td>\n",
       "      <td>8.5</td>\n",
       "      <td>Gladiator</td>\n",
       "    </tr>\n",
       "    <tr>\n",
       "      <th>38</th>\n",
       "      <td>(1998)</td>\n",
       "      <td>8.5</td>\n",
       "      <td>American History X</td>\n",
       "    </tr>\n",
       "    <tr>\n",
       "      <th>39</th>\n",
       "      <td>(1995)</td>\n",
       "      <td>8.5</td>\n",
       "      <td>The Usual Suspects</td>\n",
       "    </tr>\n",
       "    <tr>\n",
       "      <th>40</th>\n",
       "      <td>(1994)</td>\n",
       "      <td>8.5</td>\n",
       "      <td>Léon</td>\n",
       "    </tr>\n",
       "    <tr>\n",
       "      <th>41</th>\n",
       "      <td>(1994)</td>\n",
       "      <td>8.5</td>\n",
       "      <td>The Lion King</td>\n",
       "    </tr>\n",
       "    <tr>\n",
       "      <th>42</th>\n",
       "      <td>(1991)</td>\n",
       "      <td>8.5</td>\n",
       "      <td>Terminator 2: Judgment Day</td>\n",
       "    </tr>\n",
       "    <tr>\n",
       "      <th>43</th>\n",
       "      <td>(1988)</td>\n",
       "      <td>8.5</td>\n",
       "      <td>Nuovo Cinema Paradiso</td>\n",
       "    </tr>\n",
       "    <tr>\n",
       "      <th>44</th>\n",
       "      <td>(1988)</td>\n",
       "      <td>8.5</td>\n",
       "      <td>Hotaru no haka</td>\n",
       "    </tr>\n",
       "    <tr>\n",
       "      <th>45</th>\n",
       "      <td>(1985)</td>\n",
       "      <td>8.5</td>\n",
       "      <td>Back to the Future</td>\n",
       "    </tr>\n",
       "    <tr>\n",
       "      <th>46</th>\n",
       "      <td>(1968)</td>\n",
       "      <td>8.5</td>\n",
       "      <td>Once Upon a Time in the West</td>\n",
       "    </tr>\n",
       "    <tr>\n",
       "      <th>47</th>\n",
       "      <td>(1960)</td>\n",
       "      <td>8.5</td>\n",
       "      <td>Psycho</td>\n",
       "    </tr>\n",
       "    <tr>\n",
       "      <th>48</th>\n",
       "      <td>(1954)</td>\n",
       "      <td>8.5</td>\n",
       "      <td>Rear Window</td>\n",
       "    </tr>\n",
       "    <tr>\n",
       "      <th>49</th>\n",
       "      <td>(1942)</td>\n",
       "      <td>8.5</td>\n",
       "      <td>Casablanca</td>\n",
       "    </tr>\n",
       "  </tbody>\n",
       "</table>\n",
       "</div>"
      ],
      "text/plain": [
       "   Release Year Ratings_of_Movie  \\\n",
       "0        (1994)              9.3   \n",
       "1        (1972)              9.2   \n",
       "2        (2008)                9   \n",
       "3        (1974)                9   \n",
       "4        (1957)                9   \n",
       "5        (2003)              8.9   \n",
       "6        (1994)              8.9   \n",
       "7        (1993)              8.9   \n",
       "8        (2010)              8.8   \n",
       "9        (1999)              8.8   \n",
       "10       (2001)              8.8   \n",
       "11       (1994)              8.8   \n",
       "12       (1966)              8.8   \n",
       "13       (2002)              8.7   \n",
       "14       (1999)              8.7   \n",
       "15       (1990)              8.7   \n",
       "16       (1980)              8.7   \n",
       "17       (1975)              8.7   \n",
       "18       (2019)              8.6   \n",
       "19       (2014)              8.6   \n",
       "20       (2002)              8.6   \n",
       "21       (2001)              8.6   \n",
       "22       (1998)              8.6   \n",
       "23       (1999)              8.6   \n",
       "24       (1997)              8.6   \n",
       "25       (1995)              8.6   \n",
       "26       (1991)              8.6   \n",
       "27       (1977)              8.6   \n",
       "28       (1962)              8.6   \n",
       "29       (1955)              8.6   \n",
       "30       (1954)              8.6   \n",
       "31       (1946)              8.6   \n",
       "32       (2014)              8.5   \n",
       "33       (2011)              8.5   \n",
       "34       (2006)              8.5   \n",
       "35       (2006)              8.5   \n",
       "36       (2002)              8.5   \n",
       "37       (2000)              8.5   \n",
       "38       (1998)              8.5   \n",
       "39       (1995)              8.5   \n",
       "40       (1994)              8.5   \n",
       "41       (1994)              8.5   \n",
       "42       (1991)              8.5   \n",
       "43       (1988)              8.5   \n",
       "44       (1988)              8.5   \n",
       "45       (1985)              8.5   \n",
       "46       (1968)              8.5   \n",
       "47       (1960)              8.5   \n",
       "48       (1954)              8.5   \n",
       "49       (1942)              8.5   \n",
       "\n",
       "                                        Name_of_Movie  \n",
       "0                            The Shawshank Redemption  \n",
       "1                                       The Godfather  \n",
       "2                                     The Dark Knight  \n",
       "3                              The Godfather: Part II  \n",
       "4                                        12 Angry Men  \n",
       "5       The Lord of the Rings: The Return of the King  \n",
       "6                                        Pulp Fiction  \n",
       "7                                    Schindler's List  \n",
       "8                                           Inception  \n",
       "9                                          Fight Club  \n",
       "10  The Lord of the Rings: The Fellowship of the Ring  \n",
       "11                                       Forrest Gump  \n",
       "12                    Il buono, il brutto, il cattivo  \n",
       "13              The Lord of the Rings: The Two Towers  \n",
       "14                                         The Matrix  \n",
       "15                                         Goodfellas  \n",
       "16     Star Wars: Episode V - The Empire Strikes Back  \n",
       "17                    One Flew Over the Cuckoo's Nest  \n",
       "18                                       Gisaengchung  \n",
       "19                                       Interstellar  \n",
       "20                                     Cidade de Deus  \n",
       "21                      Sen to Chihiro no kamikakushi  \n",
       "22                                Saving Private Ryan  \n",
       "23                                     The Green Mile  \n",
       "24                                    La vita è bella  \n",
       "25                                              Se7en  \n",
       "26                           The Silence of the Lambs  \n",
       "27                                          Star Wars  \n",
       "28                                            Seppuku  \n",
       "29                                    Pather Panchali  \n",
       "30                               Shichinin no samurai  \n",
       "31                              It's a Wonderful Life  \n",
       "32                                           Whiplash  \n",
       "33                                   The Intouchables  \n",
       "34                                       The Prestige  \n",
       "35                                       The Departed  \n",
       "36                                        The Pianist  \n",
       "37                                          Gladiator  \n",
       "38                                 American History X  \n",
       "39                                 The Usual Suspects  \n",
       "40                                               Léon  \n",
       "41                                      The Lion King  \n",
       "42                         Terminator 2: Judgment Day  \n",
       "43                              Nuovo Cinema Paradiso  \n",
       "44                                     Hotaru no haka  \n",
       "45                                 Back to the Future  \n",
       "46                       Once Upon a Time in the West  \n",
       "47                                             Psycho  \n",
       "48                                        Rear Window  \n",
       "49                                         Casablanca  "
      ]
     },
     "execution_count": 155,
     "metadata": {},
     "output_type": "execute_result"
    }
   ],
   "source": [
    "df"
   ]
  },
  {
   "cell_type": "code",
   "execution_count": 156,
   "metadata": {},
   "outputs": [],
   "source": [
    "# Write a python program to scrape fresher job listings from ‘https://internshala.com/’. It should include job title, \n",
    "#company name, CTC, and apply date?"
   ]
  },
  {
   "cell_type": "code",
   "execution_count": 158,
   "metadata": {},
   "outputs": [],
   "source": [
    "page=requests.get(\"https://internshala.com/fresher-jobs\")"
   ]
  },
  {
   "cell_type": "code",
   "execution_count": 159,
   "metadata": {},
   "outputs": [
    {
     "data": {
      "text/plain": [
       "<Response [200]>"
      ]
     },
     "execution_count": 159,
     "metadata": {},
     "output_type": "execute_result"
    }
   ],
   "source": [
    "page"
   ]
  },
  {
   "cell_type": "code",
   "execution_count": 161,
   "metadata": {},
   "outputs": [],
   "source": [
    "#page.content"
   ]
  },
  {
   "cell_type": "code",
   "execution_count": 163,
   "metadata": {},
   "outputs": [],
   "source": [
    "soup=BeautifulSoup(page.content)\n",
    "#soup"
   ]
  },
  {
   "cell_type": "code",
   "execution_count": 165,
   "metadata": {},
   "outputs": [],
   "source": [
    "#print(soup.prettify())"
   ]
  },
  {
   "cell_type": "code",
   "execution_count": 166,
   "metadata": {},
   "outputs": [
    {
     "data": {
      "text/plain": [
       "<div class=\"heading_4_5 profile\">\n",
       "<a href=\"/fresher-job/detail/remote-associate-ui-ux-designer-fresher-jobs-at-ravgins-international-private-limited-wobbai1624613033\">Associate UI/UX Designer</a> </div>"
      ]
     },
     "execution_count": 166,
     "metadata": {},
     "output_type": "execute_result"
    }
   ],
   "source": [
    "first_title=soup.find('div',class_='heading_4_5 profile')\n",
    "first_title"
   ]
  },
  {
   "cell_type": "code",
   "execution_count": 167,
   "metadata": {},
   "outputs": [
    {
     "data": {
      "text/plain": [
       "'\\nAssociate UI/UX Designer '"
      ]
     },
     "execution_count": 167,
     "metadata": {},
     "output_type": "execute_result"
    }
   ],
   "source": [
    "first_title.text"
   ]
  },
  {
   "cell_type": "code",
   "execution_count": 168,
   "metadata": {},
   "outputs": [
    {
     "data": {
      "text/plain": [
       "'Associate UI/UX Designer '"
      ]
     },
     "execution_count": 168,
     "metadata": {},
     "output_type": "execute_result"
    }
   ],
   "source": [
    "first_title.text.replace('\\n','')"
   ]
  },
  {
   "cell_type": "code",
   "execution_count": 169,
   "metadata": {},
   "outputs": [],
   "source": [
    "first_company=soup.find('a',class_=\"link_display_like_text\")"
   ]
  },
  {
   "cell_type": "code",
   "execution_count": 170,
   "metadata": {},
   "outputs": [
    {
     "data": {
      "text/plain": [
       "'\\n                        RavGins International Private Limited (Wobb.ai)                    '"
      ]
     },
     "execution_count": 170,
     "metadata": {},
     "output_type": "execute_result"
    }
   ],
   "source": [
    "first_company.text"
   ]
  },
  {
   "cell_type": "code",
   "execution_count": 171,
   "metadata": {},
   "outputs": [
    {
     "data": {
      "text/plain": [
       "'                        RavGins International Private Limited (Wobb.ai)                    '"
      ]
     },
     "execution_count": 171,
     "metadata": {},
     "output_type": "execute_result"
    }
   ],
   "source": [
    "first_company.text.replace('\\n','')"
   ]
  },
  {
   "cell_type": "code",
   "execution_count": 172,
   "metadata": {},
   "outputs": [],
   "source": [
    "titles=soup.find_all('div',class_=\"heading_4_5 profile\")"
   ]
  },
  {
   "cell_type": "code",
   "execution_count": 174,
   "metadata": {},
   "outputs": [
    {
     "data": {
      "text/plain": [
       "['\\nAssociate UI/UX Designer ',\n",
       " '\\nBusiness Development Associate (Sales) ',\n",
       " '\\nReceptionist And Billing Manager ',\n",
       " '\\nRecruiter ',\n",
       " '\\nNode.js Backend Developer (AWS/GCP/API) ',\n",
       " '\\nBusiness Development Executive ',\n",
       " '\\nSoftware Developer ',\n",
       " '\\nManagement Trainee - Assistant Category Manager ',\n",
       " '\\nAccount Executive - Field Sales ',\n",
       " '\\nSoftware Engineer ',\n",
       " '\\nAssociate Software Developer ',\n",
       " '\\nSocial Media Strategist And Copywriter ',\n",
       " '\\nLevel 1 Technical Support Engineer ',\n",
       " '\\nAssociate Software Developer ',\n",
       " '\\nAccounting Assistant ',\n",
       " '\\nSoftware Engineer ',\n",
       " '\\nBusiness Development Manager ',\n",
       " '\\nBusiness Development Executive ',\n",
       " '\\nProduct Developer - Mathematics ',\n",
       " '\\nSales Development Representative ',\n",
       " '\\nFull Stack Engineer ',\n",
       " '\\nJunior ReactJS Developer ',\n",
       " '\\nMarketing Manager ',\n",
       " '\\nProduct Marketing Associate ',\n",
       " '\\nAdministration Associate ',\n",
       " '\\nAssociate Software Developer ',\n",
       " '\\nProject Coordinator ',\n",
       " '\\nWeb Developer ',\n",
       " '\\nSoftware Engineer Trainee ',\n",
       " '\\nBusiness Development Specialist (Sales & Marketing) ',\n",
       " '\\nBusiness Development Executive ',\n",
       " '\\nAssociate Front End Developer ',\n",
       " '\\nCorporate Sales Executive ',\n",
       " '\\nAssociate Software Developer (Full-Stack - React And Node) ',\n",
       " '\\nCustomer Relationship Specialist ',\n",
       " '\\nAssociate Editor Engagement ',\n",
       " '\\nManagement Consultant Associate ',\n",
       " '\\nWeb Analytics Developer ',\n",
       " '\\nJunior Social Media Marketing Manager ',\n",
       " '\\nJunior Social Media Marketing Associate ']"
      ]
     },
     "execution_count": 174,
     "metadata": {},
     "output_type": "execute_result"
    }
   ],
   "source": [
    "job_titles=[]\n",
    "for i in titles:\n",
    "    job_titles.append(i.text)\n",
    "job_titles"
   ]
  },
  {
   "cell_type": "code",
   "execution_count": 176,
   "metadata": {},
   "outputs": [],
   "source": [
    "companies=soup.find_all('a',class_=\"link_display_like_text\")\n",
    "#companies"
   ]
  },
  {
   "cell_type": "code",
   "execution_count": 177,
   "metadata": {
    "scrolled": true
   },
   "outputs": [
    {
     "data": {
      "text/plain": [
       "['RavGins International Private Limited (Wobb.ai)',\n",
       " 'Global Sun',\n",
       " 'Touchstone Partners',\n",
       " 'Radish Consultants Private Limited',\n",
       " 'Labellerr By Tensor Matics Private Limited',\n",
       " 'UFaber Edutech',\n",
       " 'Aptigenz Solutions Private Limited',\n",
       " 'Noise',\n",
       " 'RoaDo',\n",
       " 'CrewKarma',\n",
       " 'IQGateway',\n",
       " 'Internshala',\n",
       " 'Mithi Software Technologies Private Limited',\n",
       " 'White Blink',\n",
       " 'Wono Inc',\n",
       " 'Wono Inc',\n",
       " 'Wono Inc',\n",
       " 'Emertxe Information Technologies',\n",
       " 'Open Door Education',\n",
       " 'Content Beta',\n",
       " 'Softway Solutions Private Limited',\n",
       " 'DeepThought Edutech Ventures Private Limited',\n",
       " 'Saltoro Coffee Roasters',\n",
       " 'WebMOBI',\n",
       " 'Global Sun',\n",
       " 'Medico Healthcare Services & Technologies',\n",
       " 'Edupixels',\n",
       " 'Manufac Analytics Private Limited',\n",
       " 'Swabhav Techlabs',\n",
       " 'Claraeon Learning Private Limited',\n",
       " 'Picostone',\n",
       " 'AIMonk Labs Technology Limited',\n",
       " '369 Zoss Waters',\n",
       " 'SleekSky LLC',\n",
       " 'InPhase Power Technologies',\n",
       " 'Cactus Communications Private Limited',\n",
       " 'StrategyCo.Global',\n",
       " 'DataVinci Private Limited',\n",
       " 'The Test Tribe',\n",
       " 'Glu Studios']"
      ]
     },
     "execution_count": 177,
     "metadata": {},
     "output_type": "execute_result"
    }
   ],
   "source": [
    "company_names=[]\n",
    "for i in companies:\n",
    "    company_names.append(i.text.strip())\n",
    "company_names"
   ]
  },
  {
   "cell_type": "code",
   "execution_count": 179,
   "metadata": {},
   "outputs": [],
   "source": [
    "locations=soup.find_all('p',id='location_names')\n",
    "#locations"
   ]
  },
  {
   "cell_type": "code",
   "execution_count": 180,
   "metadata": {},
   "outputs": [
    {
     "data": {
      "text/plain": [
       "['Remote',\n",
       " 'Remote',\n",
       " 'Mumbai ',\n",
       " 'Secunderabad, Hyderabad ',\n",
       " 'Chandigarh, Mohali ',\n",
       " 'Remote',\n",
       " 'Bangalore ',\n",
       " 'Gurgaon ',\n",
       " 'Bangalore, Hyderabad ',\n",
       " 'Remote',\n",
       " 'Remote',\n",
       " 'Gurgaon ',\n",
       " 'Pune ',\n",
       " 'Remote',\n",
       " 'Remote',\n",
       " 'Remote',\n",
       " 'Remote',\n",
       " 'Bangalore ',\n",
       " 'Bangalore ',\n",
       " 'Remote',\n",
       " 'Remote',\n",
       " 'Remote',\n",
       " 'Delhi, Noida ',\n",
       " 'Remote',\n",
       " 'Remote',\n",
       " 'Hyderabad ',\n",
       " 'Remote',\n",
       " 'Gurgaon, Pune ',\n",
       " 'Mumbai ',\n",
       " 'Hyderabad ',\n",
       " 'Mumbai ',\n",
       " 'Bangalore ',\n",
       " 'Remote',\n",
       " 'Ahmedabad ',\n",
       " 'Bangalore ',\n",
       " 'Remote',\n",
       " 'Remote',\n",
       " 'Remote',\n",
       " 'Navi Mumbai, Mumbai ',\n",
       " 'Delhi ']"
      ]
     },
     "execution_count": 180,
     "metadata": {},
     "output_type": "execute_result"
    }
   ],
   "source": [
    "locations_list=[]\n",
    "for i in locations:\n",
    "    locations_list.append(i.text.replace(\"\\n\",\"\"))\n",
    "locations_list"
   ]
  },
  {
   "cell_type": "code",
   "execution_count": 182,
   "metadata": {},
   "outputs": [
    {
     "name": "stdout",
     "output_type": "stream",
     "text": [
      "40 40 40\n"
     ]
    }
   ],
   "source": [
    "print(len(job_titles),len(company_names),len(locations_list))"
   ]
  },
  {
   "cell_type": "code",
   "execution_count": 190,
   "metadata": {},
   "outputs": [],
   "source": [
    "CTC = soup.find_all('div',class_=\"item_body\")"
   ]
  },
  {
   "cell_type": "code",
   "execution_count": 191,
   "metadata": {},
   "outputs": [
    {
     "data": {
      "text/plain": [
       "['Starts\\xa0Immediately',\n",
       " '3 - 4 LPA',\n",
       " \"25 Jul' 21\",\n",
       " 'Starts\\xa0Immediately',\n",
       " '3 - 4.8 LPA',\n",
       " \"25 Jul' 21\",\n",
       " 'Starts\\xa0Immediately',\n",
       " '3 - 7 LPA',\n",
       " \"25 Jul' 21\",\n",
       " 'Starts\\xa0Immediately',\n",
       " '3 - 5 LPA',\n",
       " \"25 Jul' 21\",\n",
       " 'Starts\\xa0Immediately',\n",
       " '7 - 10 LPA',\n",
       " \"25 Jul' 21\",\n",
       " 'Starts\\xa0Immediately',\n",
       " '3 - 5 LPA',\n",
       " \"25 Jul' 21\",\n",
       " 'Starts\\xa0Immediately',\n",
       " '3 - 3.2 LPA',\n",
       " \"24 Jul' 21\",\n",
       " 'Starts\\xa0Immediately',\n",
       " '6 - 10 LPA',\n",
       " \"24 Jul' 21\",\n",
       " 'Starts\\xa0Immediately',\n",
       " '3.2 - 4 LPA',\n",
       " \"24 Jul' 21\",\n",
       " 'Starts\\xa0Immediately',\n",
       " '3 - 5 LPA',\n",
       " \"24 Jul' 21\",\n",
       " 'Starts\\xa0Immediately',\n",
       " '3.6 - 10 LPA',\n",
       " \"24 Jul' 21\",\n",
       " 'Starts\\xa0Immediately',\n",
       " '5 - 6.8 LPA',\n",
       " \"24 Jul' 21\",\n",
       " 'Starts\\xa0Immediately',\n",
       " '3 LPA',\n",
       " \"23 Jul' 21\",\n",
       " 'Starts\\xa0Immediately',\n",
       " '3 - 3.6 LPA',\n",
       " \"23 Jul' 21\",\n",
       " 'Starts\\xa0Immediately',\n",
       " '5.4 - 6.1 LPA',\n",
       " \"23 Jul' 21\",\n",
       " 'Starts\\xa0Immediately',\n",
       " '5.5 - 6.3 LPA',\n",
       " \"23 Jul' 21\",\n",
       " 'Starts\\xa0Immediately',\n",
       " '5.2 - 5.8 LPA',\n",
       " \"23 Jul' 21\",\n",
       " 'Starts\\xa0Immediately',\n",
       " '3 LPA',\n",
       " \"23 Jul' 21\",\n",
       " 'Starts\\xa0Immediately',\n",
       " '7 - 8 LPA',\n",
       " \"22 Jul' 21\",\n",
       " 'Starts\\xa0Immediately',\n",
       " '3 - 4 LPA',\n",
       " \"22 Jul' 21\",\n",
       " 'Starts\\xa0Immediately',\n",
       " '5.5 - 9 LPA',\n",
       " \"22 Jul' 21\",\n",
       " 'Starts\\xa0Immediately',\n",
       " '3 - 5 LPA',\n",
       " \"22 Jul' 21\",\n",
       " 'Starts\\xa0Immediately',\n",
       " '3.2 - 3.5 LPA',\n",
       " \"22 Jul' 21\",\n",
       " 'Starts\\xa0Immediately',\n",
       " '3 LPA',\n",
       " \"22 Jul' 21\",\n",
       " 'Starts\\xa0Immediately',\n",
       " '3 - 3.2 LPA',\n",
       " \"21 Jul' 21\",\n",
       " 'Starts\\xa0Immediately',\n",
       " '3 - 3.2 LPA',\n",
       " \"21 Jul' 21\",\n",
       " 'Starts\\xa0Immediately',\n",
       " '3 LPA',\n",
       " \"21 Jul' 21\",\n",
       " 'Starts\\xa0Immediately',\n",
       " '3 - 4 LPA',\n",
       " \"19 Jul' 21\",\n",
       " 'Starts\\xa0Immediately',\n",
       " '3 - 3.5 LPA',\n",
       " \"19 Jul' 21\",\n",
       " 'Starts\\xa0Immediately',\n",
       " '3 LPA',\n",
       " \"23 Jul' 21\",\n",
       " 'Starts\\xa0Immediately',\n",
       " '3 - 6.5 LPA',\n",
       " \"19 Jul' 21\",\n",
       " 'Starts\\xa0Immediately',\n",
       " '6 - 7 LPA',\n",
       " \"18 Jul' 21\",\n",
       " 'Starts\\xa0Immediately',\n",
       " '3 - 5 LPA',\n",
       " \"18 Jul' 21\",\n",
       " 'Starts\\xa0Immediately',\n",
       " '4 LPA',\n",
       " \"18 Jul' 21\",\n",
       " 'Starts\\xa0Immediately',\n",
       " '3 - 3.5 LPA',\n",
       " \"18 Jul' 21\",\n",
       " 'Starts\\xa0Immediately',\n",
       " '3 - 4 LPA',\n",
       " \"18 Jul' 21\",\n",
       " 'Starts\\xa0Immediately',\n",
       " '4.5 - 7 LPA',\n",
       " \"18 Jul' 21\",\n",
       " 'Starts\\xa0Immediately',\n",
       " '4.99 - 5 LPA',\n",
       " \"17 Jul' 21\",\n",
       " 'Starts\\xa0Immediately',\n",
       " '3 - 4 LPA',\n",
       " \"17 Jul' 21\",\n",
       " 'Starts\\xa0Immediately',\n",
       " '3 - 3.6 LPA',\n",
       " \"17 Jul' 21\"]"
      ]
     },
     "execution_count": 191,
     "metadata": {},
     "output_type": "execute_result"
    }
   ],
   "source": [
    "CTC_provided=[]\n",
    "for i in CTC:\n",
    "    CTC_provided.append(i.text.strip())\n",
    "CTC_provided"
   ]
  },
  {
   "cell_type": "code",
   "execution_count": 192,
   "metadata": {},
   "outputs": [
    {
     "data": {
      "text/plain": [
       "120"
      ]
     },
     "execution_count": 192,
     "metadata": {},
     "output_type": "execute_result"
    }
   ],
   "source": [
    "len(CTC_provided)"
   ]
  },
  {
   "cell_type": "code",
   "execution_count": 184,
   "metadata": {},
   "outputs": [
    {
     "data": {
      "text/html": [
       "<div>\n",
       "<style scoped>\n",
       "    .dataframe tbody tr th:only-of-type {\n",
       "        vertical-align: middle;\n",
       "    }\n",
       "\n",
       "    .dataframe tbody tr th {\n",
       "        vertical-align: top;\n",
       "    }\n",
       "\n",
       "    .dataframe thead th {\n",
       "        text-align: right;\n",
       "    }\n",
       "</style>\n",
       "<table border=\"1\" class=\"dataframe\">\n",
       "  <thead>\n",
       "    <tr style=\"text-align: right;\">\n",
       "      <th></th>\n",
       "      <th>title</th>\n",
       "      <th>company</th>\n",
       "      <th>location</th>\n",
       "    </tr>\n",
       "  </thead>\n",
       "  <tbody>\n",
       "    <tr>\n",
       "      <th>0</th>\n",
       "      <td>\\nAssociate UI/UX Designer</td>\n",
       "      <td>RavGins International Private Limited (Wobb.ai)</td>\n",
       "      <td>Remote</td>\n",
       "    </tr>\n",
       "    <tr>\n",
       "      <th>1</th>\n",
       "      <td>\\nBusiness Development Associate (Sales)</td>\n",
       "      <td>Global Sun</td>\n",
       "      <td>Remote</td>\n",
       "    </tr>\n",
       "    <tr>\n",
       "      <th>2</th>\n",
       "      <td>\\nReceptionist And Billing Manager</td>\n",
       "      <td>Touchstone Partners</td>\n",
       "      <td>Mumbai</td>\n",
       "    </tr>\n",
       "    <tr>\n",
       "      <th>3</th>\n",
       "      <td>\\nRecruiter</td>\n",
       "      <td>Radish Consultants Private Limited</td>\n",
       "      <td>Secunderabad, Hyderabad</td>\n",
       "    </tr>\n",
       "    <tr>\n",
       "      <th>4</th>\n",
       "      <td>\\nNode.js Backend Developer (AWS/GCP/API)</td>\n",
       "      <td>Labellerr By Tensor Matics Private Limited</td>\n",
       "      <td>Chandigarh, Mohali</td>\n",
       "    </tr>\n",
       "    <tr>\n",
       "      <th>5</th>\n",
       "      <td>\\nBusiness Development Executive</td>\n",
       "      <td>UFaber Edutech</td>\n",
       "      <td>Remote</td>\n",
       "    </tr>\n",
       "    <tr>\n",
       "      <th>6</th>\n",
       "      <td>\\nSoftware Developer</td>\n",
       "      <td>Aptigenz Solutions Private Limited</td>\n",
       "      <td>Bangalore</td>\n",
       "    </tr>\n",
       "    <tr>\n",
       "      <th>7</th>\n",
       "      <td>\\nManagement Trainee - Assistant Category Mana...</td>\n",
       "      <td>Noise</td>\n",
       "      <td>Gurgaon</td>\n",
       "    </tr>\n",
       "    <tr>\n",
       "      <th>8</th>\n",
       "      <td>\\nAccount Executive - Field Sales</td>\n",
       "      <td>RoaDo</td>\n",
       "      <td>Bangalore, Hyderabad</td>\n",
       "    </tr>\n",
       "    <tr>\n",
       "      <th>9</th>\n",
       "      <td>\\nSoftware Engineer</td>\n",
       "      <td>CrewKarma</td>\n",
       "      <td>Remote</td>\n",
       "    </tr>\n",
       "    <tr>\n",
       "      <th>10</th>\n",
       "      <td>\\nAssociate Software Developer</td>\n",
       "      <td>IQGateway</td>\n",
       "      <td>Remote</td>\n",
       "    </tr>\n",
       "    <tr>\n",
       "      <th>11</th>\n",
       "      <td>\\nSocial Media Strategist And Copywriter</td>\n",
       "      <td>Internshala</td>\n",
       "      <td>Gurgaon</td>\n",
       "    </tr>\n",
       "    <tr>\n",
       "      <th>12</th>\n",
       "      <td>\\nLevel 1 Technical Support Engineer</td>\n",
       "      <td>Mithi Software Technologies Private Limited</td>\n",
       "      <td>Pune</td>\n",
       "    </tr>\n",
       "    <tr>\n",
       "      <th>13</th>\n",
       "      <td>\\nAssociate Software Developer</td>\n",
       "      <td>White Blink</td>\n",
       "      <td>Remote</td>\n",
       "    </tr>\n",
       "    <tr>\n",
       "      <th>14</th>\n",
       "      <td>\\nAccounting Assistant</td>\n",
       "      <td>Wono Inc</td>\n",
       "      <td>Remote</td>\n",
       "    </tr>\n",
       "    <tr>\n",
       "      <th>15</th>\n",
       "      <td>\\nSoftware Engineer</td>\n",
       "      <td>Wono Inc</td>\n",
       "      <td>Remote</td>\n",
       "    </tr>\n",
       "    <tr>\n",
       "      <th>16</th>\n",
       "      <td>\\nBusiness Development Manager</td>\n",
       "      <td>Wono Inc</td>\n",
       "      <td>Remote</td>\n",
       "    </tr>\n",
       "    <tr>\n",
       "      <th>17</th>\n",
       "      <td>\\nBusiness Development Executive</td>\n",
       "      <td>Emertxe Information Technologies</td>\n",
       "      <td>Bangalore</td>\n",
       "    </tr>\n",
       "    <tr>\n",
       "      <th>18</th>\n",
       "      <td>\\nProduct Developer - Mathematics</td>\n",
       "      <td>Open Door Education</td>\n",
       "      <td>Bangalore</td>\n",
       "    </tr>\n",
       "    <tr>\n",
       "      <th>19</th>\n",
       "      <td>\\nSales Development Representative</td>\n",
       "      <td>Content Beta</td>\n",
       "      <td>Remote</td>\n",
       "    </tr>\n",
       "    <tr>\n",
       "      <th>20</th>\n",
       "      <td>\\nFull Stack Engineer</td>\n",
       "      <td>Softway Solutions Private Limited</td>\n",
       "      <td>Remote</td>\n",
       "    </tr>\n",
       "    <tr>\n",
       "      <th>21</th>\n",
       "      <td>\\nJunior ReactJS Developer</td>\n",
       "      <td>DeepThought Edutech Ventures Private Limited</td>\n",
       "      <td>Remote</td>\n",
       "    </tr>\n",
       "    <tr>\n",
       "      <th>22</th>\n",
       "      <td>\\nMarketing Manager</td>\n",
       "      <td>Saltoro Coffee Roasters</td>\n",
       "      <td>Delhi, Noida</td>\n",
       "    </tr>\n",
       "    <tr>\n",
       "      <th>23</th>\n",
       "      <td>\\nProduct Marketing Associate</td>\n",
       "      <td>WebMOBI</td>\n",
       "      <td>Remote</td>\n",
       "    </tr>\n",
       "    <tr>\n",
       "      <th>24</th>\n",
       "      <td>\\nAdministration Associate</td>\n",
       "      <td>Global Sun</td>\n",
       "      <td>Remote</td>\n",
       "    </tr>\n",
       "    <tr>\n",
       "      <th>25</th>\n",
       "      <td>\\nAssociate Software Developer</td>\n",
       "      <td>Medico Healthcare Services &amp; Technologies</td>\n",
       "      <td>Hyderabad</td>\n",
       "    </tr>\n",
       "    <tr>\n",
       "      <th>26</th>\n",
       "      <td>\\nProject Coordinator</td>\n",
       "      <td>Edupixels</td>\n",
       "      <td>Remote</td>\n",
       "    </tr>\n",
       "    <tr>\n",
       "      <th>27</th>\n",
       "      <td>\\nWeb Developer</td>\n",
       "      <td>Manufac Analytics Private Limited</td>\n",
       "      <td>Gurgaon, Pune</td>\n",
       "    </tr>\n",
       "    <tr>\n",
       "      <th>28</th>\n",
       "      <td>\\nSoftware Engineer Trainee</td>\n",
       "      <td>Swabhav Techlabs</td>\n",
       "      <td>Mumbai</td>\n",
       "    </tr>\n",
       "    <tr>\n",
       "      <th>29</th>\n",
       "      <td>\\nBusiness Development Specialist (Sales &amp; Mar...</td>\n",
       "      <td>Claraeon Learning Private Limited</td>\n",
       "      <td>Hyderabad</td>\n",
       "    </tr>\n",
       "    <tr>\n",
       "      <th>30</th>\n",
       "      <td>\\nBusiness Development Executive</td>\n",
       "      <td>Picostone</td>\n",
       "      <td>Mumbai</td>\n",
       "    </tr>\n",
       "    <tr>\n",
       "      <th>31</th>\n",
       "      <td>\\nAssociate Front End Developer</td>\n",
       "      <td>AIMonk Labs Technology Limited</td>\n",
       "      <td>Bangalore</td>\n",
       "    </tr>\n",
       "    <tr>\n",
       "      <th>32</th>\n",
       "      <td>\\nCorporate Sales Executive</td>\n",
       "      <td>369 Zoss Waters</td>\n",
       "      <td>Remote</td>\n",
       "    </tr>\n",
       "    <tr>\n",
       "      <th>33</th>\n",
       "      <td>\\nAssociate Software Developer (Full-Stack - R...</td>\n",
       "      <td>SleekSky LLC</td>\n",
       "      <td>Ahmedabad</td>\n",
       "    </tr>\n",
       "    <tr>\n",
       "      <th>34</th>\n",
       "      <td>\\nCustomer Relationship Specialist</td>\n",
       "      <td>InPhase Power Technologies</td>\n",
       "      <td>Bangalore</td>\n",
       "    </tr>\n",
       "    <tr>\n",
       "      <th>35</th>\n",
       "      <td>\\nAssociate Editor Engagement</td>\n",
       "      <td>Cactus Communications Private Limited</td>\n",
       "      <td>Remote</td>\n",
       "    </tr>\n",
       "    <tr>\n",
       "      <th>36</th>\n",
       "      <td>\\nManagement Consultant Associate</td>\n",
       "      <td>StrategyCo.Global</td>\n",
       "      <td>Remote</td>\n",
       "    </tr>\n",
       "    <tr>\n",
       "      <th>37</th>\n",
       "      <td>\\nWeb Analytics Developer</td>\n",
       "      <td>DataVinci Private Limited</td>\n",
       "      <td>Remote</td>\n",
       "    </tr>\n",
       "    <tr>\n",
       "      <th>38</th>\n",
       "      <td>\\nJunior Social Media Marketing Manager</td>\n",
       "      <td>The Test Tribe</td>\n",
       "      <td>Navi Mumbai, Mumbai</td>\n",
       "    </tr>\n",
       "    <tr>\n",
       "      <th>39</th>\n",
       "      <td>\\nJunior Social Media Marketing Associate</td>\n",
       "      <td>Glu Studios</td>\n",
       "      <td>Delhi</td>\n",
       "    </tr>\n",
       "  </tbody>\n",
       "</table>\n",
       "</div>"
      ],
      "text/plain": [
       "                                                title  \\\n",
       "0                         \\nAssociate UI/UX Designer    \n",
       "1           \\nBusiness Development Associate (Sales)    \n",
       "2                 \\nReceptionist And Billing Manager    \n",
       "3                                        \\nRecruiter    \n",
       "4          \\nNode.js Backend Developer (AWS/GCP/API)    \n",
       "5                   \\nBusiness Development Executive    \n",
       "6                               \\nSoftware Developer    \n",
       "7   \\nManagement Trainee - Assistant Category Mana...   \n",
       "8                  \\nAccount Executive - Field Sales    \n",
       "9                                \\nSoftware Engineer    \n",
       "10                    \\nAssociate Software Developer    \n",
       "11          \\nSocial Media Strategist And Copywriter    \n",
       "12              \\nLevel 1 Technical Support Engineer    \n",
       "13                    \\nAssociate Software Developer    \n",
       "14                            \\nAccounting Assistant    \n",
       "15                               \\nSoftware Engineer    \n",
       "16                    \\nBusiness Development Manager    \n",
       "17                  \\nBusiness Development Executive    \n",
       "18                 \\nProduct Developer - Mathematics    \n",
       "19                \\nSales Development Representative    \n",
       "20                             \\nFull Stack Engineer    \n",
       "21                        \\nJunior ReactJS Developer    \n",
       "22                               \\nMarketing Manager    \n",
       "23                     \\nProduct Marketing Associate    \n",
       "24                        \\nAdministration Associate    \n",
       "25                    \\nAssociate Software Developer    \n",
       "26                             \\nProject Coordinator    \n",
       "27                                   \\nWeb Developer    \n",
       "28                       \\nSoftware Engineer Trainee    \n",
       "29  \\nBusiness Development Specialist (Sales & Mar...   \n",
       "30                  \\nBusiness Development Executive    \n",
       "31                   \\nAssociate Front End Developer    \n",
       "32                       \\nCorporate Sales Executive    \n",
       "33  \\nAssociate Software Developer (Full-Stack - R...   \n",
       "34                \\nCustomer Relationship Specialist    \n",
       "35                     \\nAssociate Editor Engagement    \n",
       "36                 \\nManagement Consultant Associate    \n",
       "37                         \\nWeb Analytics Developer    \n",
       "38           \\nJunior Social Media Marketing Manager    \n",
       "39         \\nJunior Social Media Marketing Associate    \n",
       "\n",
       "                                            company                  location  \n",
       "0   RavGins International Private Limited (Wobb.ai)                    Remote  \n",
       "1                                        Global Sun                    Remote  \n",
       "2                               Touchstone Partners                   Mumbai   \n",
       "3                Radish Consultants Private Limited  Secunderabad, Hyderabad   \n",
       "4        Labellerr By Tensor Matics Private Limited       Chandigarh, Mohali   \n",
       "5                                    UFaber Edutech                    Remote  \n",
       "6                Aptigenz Solutions Private Limited                Bangalore   \n",
       "7                                             Noise                  Gurgaon   \n",
       "8                                             RoaDo     Bangalore, Hyderabad   \n",
       "9                                         CrewKarma                    Remote  \n",
       "10                                        IQGateway                    Remote  \n",
       "11                                      Internshala                  Gurgaon   \n",
       "12      Mithi Software Technologies Private Limited                     Pune   \n",
       "13                                      White Blink                    Remote  \n",
       "14                                         Wono Inc                    Remote  \n",
       "15                                         Wono Inc                    Remote  \n",
       "16                                         Wono Inc                    Remote  \n",
       "17                 Emertxe Information Technologies                Bangalore   \n",
       "18                              Open Door Education                Bangalore   \n",
       "19                                     Content Beta                    Remote  \n",
       "20                Softway Solutions Private Limited                    Remote  \n",
       "21     DeepThought Edutech Ventures Private Limited                    Remote  \n",
       "22                          Saltoro Coffee Roasters             Delhi, Noida   \n",
       "23                                          WebMOBI                    Remote  \n",
       "24                                       Global Sun                    Remote  \n",
       "25        Medico Healthcare Services & Technologies                Hyderabad   \n",
       "26                                        Edupixels                    Remote  \n",
       "27                Manufac Analytics Private Limited            Gurgaon, Pune   \n",
       "28                                 Swabhav Techlabs                   Mumbai   \n",
       "29                Claraeon Learning Private Limited                Hyderabad   \n",
       "30                                        Picostone                   Mumbai   \n",
       "31                   AIMonk Labs Technology Limited                Bangalore   \n",
       "32                                  369 Zoss Waters                    Remote  \n",
       "33                                     SleekSky LLC                Ahmedabad   \n",
       "34                       InPhase Power Technologies                Bangalore   \n",
       "35            Cactus Communications Private Limited                    Remote  \n",
       "36                                StrategyCo.Global                    Remote  \n",
       "37                        DataVinci Private Limited                    Remote  \n",
       "38                                   The Test Tribe      Navi Mumbai, Mumbai   \n",
       "39                                      Glu Studios                    Delhi   "
      ]
     },
     "execution_count": 184,
     "metadata": {},
     "output_type": "execute_result"
    }
   ],
   "source": [
    "import pandas as pd\n",
    "jobs=pd.DataFrame({})\n",
    "jobs['title']=job_titles\n",
    "jobs['company']=company_names\n",
    "jobs['location']=locations_list\n",
    "jobs"
   ]
  },
  {
   "cell_type": "code",
   "execution_count": null,
   "metadata": {},
   "outputs": [],
   "source": []
  },
  {
   "cell_type": "code",
   "execution_count": null,
   "metadata": {},
   "outputs": [],
   "source": []
  },
  {
   "cell_type": "code",
   "execution_count": null,
   "metadata": {},
   "outputs": [],
   "source": []
  },
  {
   "cell_type": "code",
   "execution_count": null,
   "metadata": {},
   "outputs": [],
   "source": []
  },
  {
   "cell_type": "code",
   "execution_count": null,
   "metadata": {},
   "outputs": [],
   "source": []
  },
  {
   "cell_type": "code",
   "execution_count": null,
   "metadata": {},
   "outputs": [],
   "source": []
  },
  {
   "cell_type": "code",
   "execution_count": null,
   "metadata": {},
   "outputs": [],
   "source": []
  },
  {
   "cell_type": "code",
   "execution_count": null,
   "metadata": {},
   "outputs": [],
   "source": []
  },
  {
   "cell_type": "code",
   "execution_count": null,
   "metadata": {},
   "outputs": [],
   "source": []
  },
  {
   "cell_type": "code",
   "execution_count": null,
   "metadata": {},
   "outputs": [],
   "source": []
  },
  {
   "cell_type": "code",
   "execution_count": null,
   "metadata": {},
   "outputs": [],
   "source": []
  },
  {
   "cell_type": "code",
   "execution_count": null,
   "metadata": {},
   "outputs": [],
   "source": []
  },
  {
   "cell_type": "code",
   "execution_count": null,
   "metadata": {},
   "outputs": [],
   "source": []
  },
  {
   "cell_type": "code",
   "execution_count": null,
   "metadata": {},
   "outputs": [],
   "source": []
  },
  {
   "cell_type": "code",
   "execution_count": null,
   "metadata": {},
   "outputs": [],
   "source": []
  },
  {
   "cell_type": "code",
   "execution_count": null,
   "metadata": {},
   "outputs": [],
   "source": []
  },
  {
   "cell_type": "code",
   "execution_count": null,
   "metadata": {},
   "outputs": [],
   "source": []
  },
  {
   "cell_type": "code",
   "execution_count": null,
   "metadata": {},
   "outputs": [],
   "source": []
  },
  {
   "cell_type": "code",
   "execution_count": null,
   "metadata": {},
   "outputs": [],
   "source": []
  },
  {
   "cell_type": "code",
   "execution_count": null,
   "metadata": {},
   "outputs": [],
   "source": []
  },
  {
   "cell_type": "code",
   "execution_count": null,
   "metadata": {},
   "outputs": [],
   "source": []
  },
  {
   "cell_type": "code",
   "execution_count": null,
   "metadata": {},
   "outputs": [],
   "source": []
  },
  {
   "cell_type": "code",
   "execution_count": null,
   "metadata": {},
   "outputs": [],
   "source": []
  },
  {
   "cell_type": "code",
   "execution_count": null,
   "metadata": {},
   "outputs": [],
   "source": []
  },
  {
   "cell_type": "code",
   "execution_count": null,
   "metadata": {},
   "outputs": [],
   "source": []
  },
  {
   "cell_type": "code",
   "execution_count": null,
   "metadata": {},
   "outputs": [],
   "source": []
  },
  {
   "cell_type": "code",
   "execution_count": null,
   "metadata": {},
   "outputs": [],
   "source": []
  },
  {
   "cell_type": "code",
   "execution_count": null,
   "metadata": {},
   "outputs": [],
   "source": []
  },
  {
   "cell_type": "code",
   "execution_count": null,
   "metadata": {},
   "outputs": [],
   "source": []
  },
  {
   "cell_type": "code",
   "execution_count": null,
   "metadata": {},
   "outputs": [],
   "source": []
  },
  {
   "cell_type": "code",
   "execution_count": null,
   "metadata": {},
   "outputs": [],
   "source": []
  },
  {
   "cell_type": "code",
   "execution_count": null,
   "metadata": {},
   "outputs": [],
   "source": []
  },
  {
   "cell_type": "code",
   "execution_count": null,
   "metadata": {},
   "outputs": [],
   "source": []
  },
  {
   "cell_type": "code",
   "execution_count": null,
   "metadata": {},
   "outputs": [],
   "source": []
  },
  {
   "cell_type": "code",
   "execution_count": null,
   "metadata": {},
   "outputs": [],
   "source": []
  },
  {
   "cell_type": "code",
   "execution_count": null,
   "metadata": {},
   "outputs": [],
   "source": []
  },
  {
   "cell_type": "code",
   "execution_count": null,
   "metadata": {},
   "outputs": [],
   "source": []
  },
  {
   "cell_type": "code",
   "execution_count": null,
   "metadata": {},
   "outputs": [],
   "source": []
  },
  {
   "cell_type": "code",
   "execution_count": null,
   "metadata": {},
   "outputs": [],
   "source": []
  },
  {
   "cell_type": "code",
   "execution_count": null,
   "metadata": {},
   "outputs": [],
   "source": []
  },
  {
   "cell_type": "code",
   "execution_count": null,
   "metadata": {},
   "outputs": [],
   "source": []
  },
  {
   "cell_type": "code",
   "execution_count": null,
   "metadata": {},
   "outputs": [],
   "source": []
  },
  {
   "cell_type": "code",
   "execution_count": null,
   "metadata": {},
   "outputs": [],
   "source": []
  },
  {
   "cell_type": "code",
   "execution_count": null,
   "metadata": {},
   "outputs": [],
   "source": []
  },
  {
   "cell_type": "code",
   "execution_count": null,
   "metadata": {},
   "outputs": [],
   "source": []
  },
  {
   "cell_type": "code",
   "execution_count": null,
   "metadata": {},
   "outputs": [],
   "source": []
  },
  {
   "cell_type": "code",
   "execution_count": null,
   "metadata": {},
   "outputs": [],
   "source": []
  },
  {
   "cell_type": "code",
   "execution_count": null,
   "metadata": {},
   "outputs": [],
   "source": []
  },
  {
   "cell_type": "code",
   "execution_count": null,
   "metadata": {},
   "outputs": [],
   "source": []
  },
  {
   "cell_type": "code",
   "execution_count": null,
   "metadata": {},
   "outputs": [],
   "source": []
  },
  {
   "cell_type": "code",
   "execution_count": null,
   "metadata": {},
   "outputs": [],
   "source": []
  },
  {
   "cell_type": "code",
   "execution_count": null,
   "metadata": {},
   "outputs": [],
   "source": []
  },
  {
   "cell_type": "code",
   "execution_count": null,
   "metadata": {},
   "outputs": [],
   "source": []
  }
 ],
 "metadata": {
  "kernelspec": {
   "display_name": "Python 3",
   "language": "python",
   "name": "python3"
  },
  "language_info": {
   "codemirror_mode": {
    "name": "ipython",
    "version": 3
   },
   "file_extension": ".py",
   "mimetype": "text/x-python",
   "name": "python",
   "nbconvert_exporter": "python",
   "pygments_lexer": "ipython3",
   "version": "3.8.5"
  }
 },
 "nbformat": 4,
 "nbformat_minor": 4
}
